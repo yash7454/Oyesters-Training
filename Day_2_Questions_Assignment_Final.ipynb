{
  "nbformat": 4,
  "nbformat_minor": 0,
  "metadata": {
    "kernelspec": {
      "display_name": "Python 3",
      "language": "python",
      "name": "python3"
    },
    "language_info": {
      "codemirror_mode": {
        "name": "ipython",
        "version": 3
      },
      "file_extension": ".py",
      "mimetype": "text/x-python",
      "name": "python",
      "nbconvert_exporter": "python",
      "pygments_lexer": "ipython3",
      "version": "3.7.1"
    },
    "colab": {
      "name": "Day_2_Questions-Assignment.ipynb",
      "provenance": [],
      "collapsed_sections": []
    }
  },
  "cells": [
    {
      "cell_type": "markdown",
      "metadata": {
        "id": "4ABllLdCvR3v",
        "colab_type": "text"
      },
      "source": [
        "![image.png](data:image/png;base64,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)\n"
      ]
    },
    {
      "cell_type": "markdown",
      "metadata": {
        "id": "byqx7SZDR6i1",
        "colab_type": "text"
      },
      "source": [
        "www.youtube.com/diazoniclabs"
      ]
    },
    {
      "cell_type": "markdown",
      "metadata": {
        "id": "qE1O-onnvqd0",
        "colab_type": "text"
      },
      "source": [
        "# Assignment - Day 2:\n",
        "Hope that by now, everyone would have had Github account and LinkedIn account.\n",
        "1. Technical Assignment of 5 simple questions is posted as follows. \n",
        "\n",
        "2. Write a small post on your LinkedIn wall of today's class and tag us with \n",
        "\n",
        " #diazoniclabswebinar\n",
        "\n",
        " @OyestersTraining\n",
        "\n",
        " @Diazonic Labs\n",
        "\n",
        "Sample Post: https://www.linkedin.com/posts/rohithkalvakota_str-f-workshop-activity-6666963613699465216-1tqj\n",
        "\n",
        "\n"
      ]
    },
    {
      "cell_type": "markdown",
      "metadata": {
        "id": "bans1IqFTblr",
        "colab_type": "text"
      },
      "source": [
        "**Welcome to your Assessment 1! Complete the tasks described below by typing the relevant code in the cells. The output is given for your reference after the questions. You will get different answers because of dealing with random values**"
      ]
    },
    {
      "cell_type": "markdown",
      "metadata": {
        "id": "GO9jdsmAVfn2",
        "colab_type": "text"
      },
      "source": [
        "Use this website for reference: https://numpy.org/doc/stable/user/quickstart.html"
      ]
    },
    {
      "cell_type": "markdown",
      "metadata": {
        "id": "HNAMs3PniOUe",
        "colab_type": "text"
      },
      "source": [
        "# 1. Create an array having 10 values using randint method and store it in a variable r. Values ranging from 50 to 100. Sort it in descending order"
      ]
    },
    {
      "cell_type": "code",
      "metadata": {
        "id": "H4mbj0uWiOUn",
        "colab_type": "code",
        "outputId": "2c8b4aa1-9366-44bc-e80d-6f64053517c5",
        "colab": {
          "base_uri": "https://localhost:8080/",
          "height": 34
        }
      },
      "source": [
        "import numpy as np\n",
        "r = np.random.randint(50, 100, 10)\n",
        "sorted_array = np.sort(r)\n",
        "r = sorted_array[::-1]\n",
        "print(r)"
      ],
      "execution_count": 3,
      "outputs": [
        {
          "output_type": "stream",
          "text": [
            "[92 89 89 89 86 60 58 53 52 52]\n"
          ],
          "name": "stdout"
        }
      ]
    },
    {
      "cell_type": "markdown",
      "metadata": {
        "id": "D6NgkJIEiOU2",
        "colab_type": "text"
      },
      "source": [
        "# 2. Append a number 7 inside r array "
      ]
    },
    {
      "cell_type": "code",
      "metadata": {
        "id": "8oBN6SfoiOU4",
        "colab_type": "code",
        "outputId": "90ad05e7-b6fc-4cca-d962-4c4d1355b288",
        "colab": {
          "base_uri": "https://localhost:8080/",
          "height": 34
        }
      },
      "source": [
        "r = np.append(r,7)\n",
        "r"
      ],
      "execution_count": 4,
      "outputs": [
        {
          "output_type": "execute_result",
          "data": {
            "text/plain": [
              "array([92, 89, 89, 89, 86, 60, 58, 53, 52, 52,  7])"
            ]
          },
          "metadata": {
            "tags": []
          },
          "execution_count": 4
        }
      ]
    },
    {
      "cell_type": "markdown",
      "metadata": {
        "id": "cGkUWIhviOVP",
        "colab_type": "text"
      },
      "source": [
        "# 3. Find the cubes and square roots of all values of r array and store in c and sq variable."
      ]
    },
    {
      "cell_type": "code",
      "metadata": {
        "id": "hKA5IWR5iOVS",
        "colab_type": "code",
        "outputId": "c3e9a478-2637-41af-9030-d7a1f4d0bf61",
        "colab": {
          "base_uri": "https://localhost:8080/",
          "height": 67
        }
      },
      "source": [
        "sq = np.square(r)\n",
        "print(sq)\n",
        "c = np.power(r,3)\n",
        "print(c)"
      ],
      "execution_count": 5,
      "outputs": [
        {
          "output_type": "stream",
          "text": [
            "[8464 7921 7921 7921 7396 3600 3364 2809 2704 2704   49]\n",
            "[778688 704969 704969 704969 636056 216000 195112 148877 140608 140608\n",
            "    343]\n"
          ],
          "name": "stdout"
        }
      ]
    },
    {
      "cell_type": "markdown",
      "metadata": {
        "id": "aPbkw-hbiOVi",
        "colab_type": "text"
      },
      "source": [
        "# 4. Print the following of r array\n",
        "1. The total sum \n",
        "2. Maximum value \n",
        "3. Minimum Value\n",
        "4. Mean Value\n",
        "5. Median Value"
      ]
    },
    {
      "cell_type": "code",
      "metadata": {
        "id": "aGITCHeJiOVk",
        "colab_type": "code",
        "outputId": "48b06c07-4a24-4d43-ea01-487f2b1a94e3",
        "colab": {
          "base_uri": "https://localhost:8080/",
          "height": 101
        }
      },
      "source": [
        "print(np.sum(r))\n",
        "print(np.max(r))\n",
        "print(np.min(r))\n",
        "print(np.mean(r))\n",
        "print(np.median(r))"
      ],
      "execution_count": 6,
      "outputs": [
        {
          "output_type": "stream",
          "text": [
            "727\n",
            "92\n",
            "7\n",
            "66.0909090909091\n",
            "60.0\n"
          ],
          "name": "stdout"
        }
      ]
    },
    {
      "cell_type": "markdown",
      "metadata": {
        "id": "kaTU4MkLiOVz",
        "colab_type": "text"
      },
      "source": [
        "# 5.Normalize the r array and store it in varible n using Min Max\n",
        "\n",
        "Hint : Minmax normalization is a normalization strategy which linearly transforms minimum value in array is mapped to 0 and the maximum value in array is mapped to 1.\n",
        "Check Image for formula reference"
      ]
    },
    {
      "cell_type": "markdown",
      "metadata": {
        "id": "PoLvAXesTFEc",
        "colab_type": "text"
      },
      "source": [
        "![image.png](data:image/png;base64,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)"
      ]
    },
    {
      "cell_type": "code",
      "metadata": {
        "id": "0t7yJ-eoiOVz",
        "colab_type": "code",
        "outputId": "0e1f0186-de90-494e-f8c7-ad45c0b63aac",
        "colab": {
          "base_uri": "https://localhost:8080/",
          "height": 67
        }
      },
      "source": [
        "n = (r - np.min(r))/(np.max(r) - np.min(r))\n",
        "n"
      ],
      "execution_count": 7,
      "outputs": [
        {
          "output_type": "execute_result",
          "data": {
            "text/plain": [
              "array([1.        , 0.96470588, 0.96470588, 0.96470588, 0.92941176,\n",
              "       0.62352941, 0.6       , 0.54117647, 0.52941176, 0.52941176,\n",
              "       0.        ])"
            ]
          },
          "metadata": {
            "tags": []
          },
          "execution_count": 7
        }
      ]
    },
    {
      "cell_type": "code",
      "metadata": {
        "id": "wu8ABJoRpJbb",
        "colab_type": "code",
        "colab": {}
      },
      "source": [
        ""
      ],
      "execution_count": 0,
      "outputs": []
    }
  ]
}
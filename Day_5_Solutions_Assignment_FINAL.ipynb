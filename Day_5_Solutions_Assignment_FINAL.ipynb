{
  "nbformat": 4,
  "nbformat_minor": 0,
  "metadata": {
    "colab": {
      "name": "Day_5_Solutions-Assignment.ipynb",
      "provenance": [],
      "collapsed_sections": [],
      "include_colab_link": true
    },
    "kernelspec": {
      "name": "python3",
      "display_name": "Python 3"
    }
  },
  "cells": [
    {
      "cell_type": "markdown",
      "metadata": {
        "id": "view-in-github",
        "colab_type": "text"
      },
      "source": [
        "<a href=\"https://colab.research.google.com/github/yash7454/Oyesters-Training/blob/master/Day_5_Solutions_Assignment_FINAL.ipynb\" target=\"_parent\"><img src=\"https://colab.research.google.com/assets/colab-badge.svg\" alt=\"Open In Colab\"/></a>"
      ]
    },
    {
      "cell_type": "markdown",
      "metadata": {
        "id": "LyxunI2PeOip",
        "colab_type": "text"
      },
      "source": [
        "#KNN - Algorithm\n",
        "\n"
      ]
    },
    {
      "cell_type": "markdown",
      "metadata": {
        "id": "sqCxcLlVFqpq",
        "colab_type": "text"
      },
      "source": [
        "## 1. Load the data by creating a DataFrame using Underweight-knn.csv file using  Google Colab Library to import files\n"
      ]
    },
    {
      "cell_type": "code",
      "metadata": {
        "id": "sbEEMUY10upi",
        "colab_type": "code",
        "outputId": "a3b41786-ecca-433e-9f93-ca3e62c44413",
        "colab": {
          "resources": {
            "http://localhost:8080/nbextensions/google.colab/files.js": {
              "data": "Ly8gQ29weXJpZ2h0IDIwMTcgR29vZ2xlIExMQwovLwovLyBMaWNlbnNlZCB1bmRlciB0aGUgQXBhY2hlIExpY2Vuc2UsIFZlcnNpb24gMi4wICh0aGUgIkxpY2Vuc2UiKTsKLy8geW91IG1heSBub3QgdXNlIHRoaXMgZmlsZSBleGNlcHQgaW4gY29tcGxpYW5jZSB3aXRoIHRoZSBMaWNlbnNlLgovLyBZb3UgbWF5IG9idGFpbiBhIGNvcHkgb2YgdGhlIExpY2Vuc2UgYXQKLy8KLy8gICAgICBodHRwOi8vd3d3LmFwYWNoZS5vcmcvbGljZW5zZXMvTElDRU5TRS0yLjAKLy8KLy8gVW5sZXNzIHJlcXVpcmVkIGJ5IGFwcGxpY2FibGUgbGF3IG9yIGFncmVlZCB0byBpbiB3cml0aW5nLCBzb2Z0d2FyZQovLyBkaXN0cmlidXRlZCB1bmRlciB0aGUgTGljZW5zZSBpcyBkaXN0cmlidXRlZCBvbiBhbiAiQVMgSVMiIEJBU0lTLAovLyBXSVRIT1VUIFdBUlJBTlRJRVMgT1IgQ09ORElUSU9OUyBPRiBBTlkgS0lORCwgZWl0aGVyIGV4cHJlc3Mgb3IgaW1wbGllZC4KLy8gU2VlIHRoZSBMaWNlbnNlIGZvciB0aGUgc3BlY2lmaWMgbGFuZ3VhZ2UgZ292ZXJuaW5nIHBlcm1pc3Npb25zIGFuZAovLyBsaW1pdGF0aW9ucyB1bmRlciB0aGUgTGljZW5zZS4KCi8qKgogKiBAZmlsZW92ZXJ2aWV3IEhlbHBlcnMgZm9yIGdvb2dsZS5jb2xhYiBQeXRob24gbW9kdWxlLgogKi8KKGZ1bmN0aW9uKHNjb3BlKSB7CmZ1bmN0aW9uIHNwYW4odGV4dCwgc3R5bGVBdHRyaWJ1dGVzID0ge30pIHsKICBjb25zdCBlbGVtZW50ID0gZG9jdW1lbnQuY3JlYXRlRWxlbWVudCgnc3BhbicpOwogIGVsZW1lbnQudGV4dENvbnRlbnQgPSB0ZXh0OwogIGZvciAoY29uc3Qga2V5IG9mIE9iamVjdC5rZXlzKHN0eWxlQXR0cmlidXRlcykpIHsKICAgIGVsZW1lbnQuc3R5bGVba2V5XSA9IHN0eWxlQXR0cmlidXRlc1trZXldOwogIH0KICByZXR1cm4gZWxlbWVudDsKfQoKLy8gTWF4IG51bWJlciBvZiBieXRlcyB3aGljaCB3aWxsIGJlIHVwbG9hZGVkIGF0IGEgdGltZS4KY29uc3QgTUFYX1BBWUxPQURfU0laRSA9IDEwMCAqIDEwMjQ7Ci8vIE1heCBhbW91bnQgb2YgdGltZSB0byBibG9jayB3YWl0aW5nIGZvciB0aGUgdXNlci4KY29uc3QgRklMRV9DSEFOR0VfVElNRU9VVF9NUyA9IDMwICogMTAwMDsKCmZ1bmN0aW9uIF91cGxvYWRGaWxlcyhpbnB1dElkLCBvdXRwdXRJZCkgewogIGNvbnN0IHN0ZXBzID0gdXBsb2FkRmlsZXNTdGVwKGlucHV0SWQsIG91dHB1dElkKTsKICBjb25zdCBvdXRwdXRFbGVtZW50ID0gZG9jdW1lbnQuZ2V0RWxlbWVudEJ5SWQob3V0cHV0SWQpOwogIC8vIENhY2hlIHN0ZXBzIG9uIHRoZSBvdXRwdXRFbGVtZW50IHRvIG1ha2UgaXQgYXZhaWxhYmxlIGZvciB0aGUgbmV4dCBjYWxsCiAgLy8gdG8gdXBsb2FkRmlsZXNDb250aW51ZSBmcm9tIFB5dGhvbi4KICBvdXRwdXRFbGVtZW50LnN0ZXBzID0gc3RlcHM7CgogIHJldHVybiBfdXBsb2FkRmlsZXNDb250aW51ZShvdXRwdXRJZCk7Cn0KCi8vIFRoaXMgaXMgcm91Z2hseSBhbiBhc3luYyBnZW5lcmF0b3IgKG5vdCBzdXBwb3J0ZWQgaW4gdGhlIGJyb3dzZXIgeWV0KSwKLy8gd2hlcmUgdGhlcmUgYXJlIG11bHRpcGxlIGFzeW5jaHJvbm91cyBzdGVwcyBhbmQgdGhlIFB5dGhvbiBzaWRlIGlzIGdvaW5nCi8vIHRvIHBvbGwgZm9yIGNvbXBsZXRpb24gb2YgZWFjaCBzdGVwLgovLyBUaGlzIHVzZXMgYSBQcm9taXNlIHRvIGJsb2NrIHRoZSBweXRob24gc2lkZSBvbiBjb21wbGV0aW9uIG9mIGVhY2ggc3RlcCwKLy8gdGhlbiBwYXNzZXMgdGhlIHJlc3VsdCBvZiB0aGUgcHJldmlvdXMgc3RlcCBhcyB0aGUgaW5wdXQgdG8gdGhlIG5leHQgc3RlcC4KZnVuY3Rpb24gX3VwbG9hZEZpbGVzQ29udGludWUob3V0cHV0SWQpIHsKICBjb25zdCBvdXRwdXRFbGVtZW50ID0gZG9jdW1lbnQuZ2V0RWxlbWVudEJ5SWQob3V0cHV0SWQpOwogIGNvbnN0IHN0ZXBzID0gb3V0cHV0RWxlbWVudC5zdGVwczsKCiAgY29uc3QgbmV4dCA9IHN0ZXBzLm5leHQob3V0cHV0RWxlbWVudC5sYXN0UHJvbWlzZVZhbHVlKTsKICByZXR1cm4gUHJvbWlzZS5yZXNvbHZlKG5leHQudmFsdWUucHJvbWlzZSkudGhlbigodmFsdWUpID0+IHsKICAgIC8vIENhY2hlIHRoZSBsYXN0IHByb21pc2UgdmFsdWUgdG8gbWFrZSBpdCBhdmFpbGFibGUgdG8gdGhlIG5leHQKICAgIC8vIHN0ZXAgb2YgdGhlIGdlbmVyYXRvci4KICAgIG91dHB1dEVsZW1lbnQubGFzdFByb21pc2VWYWx1ZSA9IHZhbHVlOwogICAgcmV0dXJuIG5leHQudmFsdWUucmVzcG9uc2U7CiAgfSk7Cn0KCi8qKgogKiBHZW5lcmF0b3IgZnVuY3Rpb24gd2hpY2ggaXMgY2FsbGVkIGJldHdlZW4gZWFjaCBhc3luYyBzdGVwIG9mIHRoZSB1cGxvYWQKICogcHJvY2Vzcy4KICogQHBhcmFtIHtzdHJpbmd9IGlucHV0SWQgRWxlbWVudCBJRCBvZiB0aGUgaW5wdXQgZmlsZSBwaWNrZXIgZWxlbWVudC4KICogQHBhcmFtIHtzdHJpbmd9IG91dHB1dElkIEVsZW1lbnQgSUQgb2YgdGhlIG91dHB1dCBkaXNwbGF5LgogKiBAcmV0dXJuIHshSXRlcmFibGU8IU9iamVjdD59IEl0ZXJhYmxlIG9mIG5leHQgc3RlcHMuCiAqLwpmdW5jdGlvbiogdXBsb2FkRmlsZXNTdGVwKGlucHV0SWQsIG91dHB1dElkKSB7CiAgY29uc3QgaW5wdXRFbGVtZW50ID0gZG9jdW1lbnQuZ2V0RWxlbWVudEJ5SWQoaW5wdXRJZCk7CiAgaW5wdXRFbGVtZW50LmRpc2FibGVkID0gZmFsc2U7CgogIGNvbnN0IG91dHB1dEVsZW1lbnQgPSBkb2N1bWVudC5nZXRFbGVtZW50QnlJZChvdXRwdXRJZCk7CiAgb3V0cHV0RWxlbWVudC5pbm5lckhUTUwgPSAnJzsKCiAgY29uc3QgcGlja2VkUHJvbWlzZSA9IG5ldyBQcm9taXNlKChyZXNvbHZlKSA9PiB7CiAgICBpbnB1dEVsZW1lbnQuYWRkRXZlbnRMaXN0ZW5lcignY2hhbmdlJywgKGUpID0+IHsKICAgICAgcmVzb2x2ZShlLnRhcmdldC5maWxlcyk7CiAgICB9KTsKICB9KTsKCiAgY29uc3QgY2FuY2VsID0gZG9jdW1lbnQuY3JlYXRlRWxlbWVudCgnYnV0dG9uJyk7CiAgaW5wdXRFbGVtZW50LnBhcmVudEVsZW1lbnQuYXBwZW5kQ2hpbGQoY2FuY2VsKTsKICBjYW5jZWwudGV4dENvbnRlbnQgPSAnQ2FuY2VsIHVwbG9hZCc7CiAgY29uc3QgY2FuY2VsUHJvbWlzZSA9IG5ldyBQcm9taXNlKChyZXNvbHZlKSA9PiB7CiAgICBjYW5jZWwub25jbGljayA9ICgpID0+IHsKICAgICAgcmVzb2x2ZShudWxsKTsKICAgIH07CiAgfSk7CgogIC8vIENhbmNlbCB1cGxvYWQgaWYgdXNlciBoYXNuJ3QgcGlja2VkIGFueXRoaW5nIGluIHRpbWVvdXQuCiAgY29uc3QgdGltZW91dFByb21pc2UgPSBuZXcgUHJvbWlzZSgocmVzb2x2ZSkgPT4gewogICAgc2V0VGltZW91dCgoKSA9PiB7CiAgICAgIHJlc29sdmUobnVsbCk7CiAgICB9LCBGSUxFX0NIQU5HRV9USU1FT1VUX01TKTsKICB9KTsKCiAgLy8gV2FpdCBmb3IgdGhlIHVzZXIgdG8gcGljayB0aGUgZmlsZXMuCiAgY29uc3QgZmlsZXMgPSB5aWVsZCB7CiAgICBwcm9taXNlOiBQcm9taXNlLnJhY2UoW3BpY2tlZFByb21pc2UsIHRpbWVvdXRQcm9taXNlLCBjYW5jZWxQcm9taXNlXSksCiAgICByZXNwb25zZTogewogICAgICBhY3Rpb246ICdzdGFydGluZycsCiAgICB9CiAgfTsKCiAgaWYgKCFmaWxlcykgewogICAgcmV0dXJuIHsKICAgICAgcmVzcG9uc2U6IHsKICAgICAgICBhY3Rpb246ICdjb21wbGV0ZScsCiAgICAgIH0KICAgIH07CiAgfQoKICBjYW5jZWwucmVtb3ZlKCk7CgogIC8vIERpc2FibGUgdGhlIGlucHV0IGVsZW1lbnQgc2luY2UgZnVydGhlciBwaWNrcyBhcmUgbm90IGFsbG93ZWQuCiAgaW5wdXRFbGVtZW50LmRpc2FibGVkID0gdHJ1ZTsKCiAgZm9yIChjb25zdCBmaWxlIG9mIGZpbGVzKSB7CiAgICBjb25zdCBsaSA9IGRvY3VtZW50LmNyZWF0ZUVsZW1lbnQoJ2xpJyk7CiAgICBsaS5hcHBlbmQoc3BhbihmaWxlLm5hbWUsIHtmb250V2VpZ2h0OiAnYm9sZCd9KSk7CiAgICBsaS5hcHBlbmQoc3BhbigKICAgICAgICBgKCR7ZmlsZS50eXBlIHx8ICduL2EnfSkgLSAke2ZpbGUuc2l6ZX0gYnl0ZXMsIGAgKwogICAgICAgIGBsYXN0IG1vZGlmaWVkOiAkewogICAgICAgICAgICBmaWxlLmxhc3RNb2RpZmllZERhdGUgPyBmaWxlLmxhc3RNb2RpZmllZERhdGUudG9Mb2NhbGVEYXRlU3RyaW5nKCkgOgogICAgICAgICAgICAgICAgICAgICAgICAgICAgICAgICAgICAnbi9hJ30gLSBgKSk7CiAgICBjb25zdCBwZXJjZW50ID0gc3BhbignMCUgZG9uZScpOwogICAgbGkuYXBwZW5kQ2hpbGQocGVyY2VudCk7CgogICAgb3V0cHV0RWxlbWVudC5hcHBlbmRDaGlsZChsaSk7CgogICAgY29uc3QgZmlsZURhdGFQcm9taXNlID0gbmV3IFByb21pc2UoKHJlc29sdmUpID0+IHsKICAgICAgY29uc3QgcmVhZGVyID0gbmV3IEZpbGVSZWFkZXIoKTsKICAgICAgcmVhZGVyLm9ubG9hZCA9IChlKSA9PiB7CiAgICAgICAgcmVzb2x2ZShlLnRhcmdldC5yZXN1bHQpOwogICAgICB9OwogICAgICByZWFkZXIucmVhZEFzQXJyYXlCdWZmZXIoZmlsZSk7CiAgICB9KTsKICAgIC8vIFdhaXQgZm9yIHRoZSBkYXRhIHRvIGJlIHJlYWR5LgogICAgbGV0IGZpbGVEYXRhID0geWllbGQgewogICAgICBwcm9taXNlOiBmaWxlRGF0YVByb21pc2UsCiAgICAgIHJlc3BvbnNlOiB7CiAgICAgICAgYWN0aW9uOiAnY29udGludWUnLAogICAgICB9CiAgICB9OwoKICAgIC8vIFVzZSBhIGNodW5rZWQgc2VuZGluZyB0byBhdm9pZCBtZXNzYWdlIHNpemUgbGltaXRzLiBTZWUgYi82MjExNTY2MC4KICAgIGxldCBwb3NpdGlvbiA9IDA7CiAgICB3aGlsZSAocG9zaXRpb24gPCBmaWxlRGF0YS5ieXRlTGVuZ3RoKSB7CiAgICAgIGNvbnN0IGxlbmd0aCA9IE1hdGgubWluKGZpbGVEYXRhLmJ5dGVMZW5ndGggLSBwb3NpdGlvbiwgTUFYX1BBWUxPQURfU0laRSk7CiAgICAgIGNvbnN0IGNodW5rID0gbmV3IFVpbnQ4QXJyYXkoZmlsZURhdGEsIHBvc2l0aW9uLCBsZW5ndGgpOwogICAgICBwb3NpdGlvbiArPSBsZW5ndGg7CgogICAgICBjb25zdCBiYXNlNjQgPSBidG9hKFN0cmluZy5mcm9tQ2hhckNvZGUuYXBwbHkobnVsbCwgY2h1bmspKTsKICAgICAgeWllbGQgewogICAgICAgIHJlc3BvbnNlOiB7CiAgICAgICAgICBhY3Rpb246ICdhcHBlbmQnLAogICAgICAgICAgZmlsZTogZmlsZS5uYW1lLAogICAgICAgICAgZGF0YTogYmFzZTY0LAogICAgICAgIH0sCiAgICAgIH07CiAgICAgIHBlcmNlbnQudGV4dENvbnRlbnQgPQogICAgICAgICAgYCR7TWF0aC5yb3VuZCgocG9zaXRpb24gLyBmaWxlRGF0YS5ieXRlTGVuZ3RoKSAqIDEwMCl9JSBkb25lYDsKICAgIH0KICB9CgogIC8vIEFsbCBkb25lLgogIHlpZWxkIHsKICAgIHJlc3BvbnNlOiB7CiAgICAgIGFjdGlvbjogJ2NvbXBsZXRlJywKICAgIH0KICB9Owp9CgpzY29wZS5nb29nbGUgPSBzY29wZS5nb29nbGUgfHwge307CnNjb3BlLmdvb2dsZS5jb2xhYiA9IHNjb3BlLmdvb2dsZS5jb2xhYiB8fCB7fTsKc2NvcGUuZ29vZ2xlLmNvbGFiLl9maWxlcyA9IHsKICBfdXBsb2FkRmlsZXMsCiAgX3VwbG9hZEZpbGVzQ29udGludWUsCn07Cn0pKHNlbGYpOwo=",
              "ok": true,
              "headers": [
                [
                  "content-type",
                  "application/javascript"
                ]
              ],
              "status": 200,
              "status_text": ""
            }
          },
          "base_uri": "https://localhost:8080/",
          "height": 76
        }
      },
      "source": [
        "from google.colab import files\n",
        "uploaded = files.upload()"
      ],
      "execution_count": 0,
      "outputs": [
        {
          "output_type": "display_data",
          "data": {
            "text/html": [
              "\n",
              "     <input type=\"file\" id=\"files-8c3d61c5-e81b-43a4-8365-50049503c283\" name=\"files[]\" multiple disabled />\n",
              "     <output id=\"result-8c3d61c5-e81b-43a4-8365-50049503c283\">\n",
              "      Upload widget is only available when the cell has been executed in the\n",
              "      current browser session. Please rerun this cell to enable.\n",
              "      </output>\n",
              "      <script src=\"/nbextensions/google.colab/files.js\"></script> "
            ],
            "text/plain": [
              "<IPython.core.display.HTML object>"
            ]
          },
          "metadata": {
            "tags": []
          }
        },
        {
          "output_type": "stream",
          "text": [
            "Saving Underweight-knn.csv to Underweight-knn.csv\n"
          ],
          "name": "stdout"
        }
      ]
    },
    {
      "cell_type": "code",
      "metadata": {
        "id": "WYHW4qMk0d6_",
        "colab_type": "code",
        "outputId": "d4320ce8-389f-490a-ddce-f55e20085263",
        "colab": {
          "base_uri": "https://localhost:8080/",
          "height": 318
        }
      },
      "source": [
        "import pandas as pd\n",
        "df = pd.read_csv('Underweight-knn.csv')\n",
        "df"
      ],
      "execution_count": 0,
      "outputs": [
        {
          "output_type": "execute_result",
          "data": {
            "text/html": [
              "<div>\n",
              "<style scoped>\n",
              "    .dataframe tbody tr th:only-of-type {\n",
              "        vertical-align: middle;\n",
              "    }\n",
              "\n",
              "    .dataframe tbody tr th {\n",
              "        vertical-align: top;\n",
              "    }\n",
              "\n",
              "    .dataframe thead th {\n",
              "        text-align: right;\n",
              "    }\n",
              "</style>\n",
              "<table border=\"1\" class=\"dataframe\">\n",
              "  <thead>\n",
              "    <tr style=\"text-align: right;\">\n",
              "      <th></th>\n",
              "      <th>Weight(x2)</th>\n",
              "      <th>Height(y2)</th>\n",
              "      <th>Class</th>\n",
              "    </tr>\n",
              "  </thead>\n",
              "  <tbody>\n",
              "    <tr>\n",
              "      <th>0</th>\n",
              "      <td>51</td>\n",
              "      <td>167</td>\n",
              "      <td>Underweight</td>\n",
              "    </tr>\n",
              "    <tr>\n",
              "      <th>1</th>\n",
              "      <td>62</td>\n",
              "      <td>182</td>\n",
              "      <td>Normal</td>\n",
              "    </tr>\n",
              "    <tr>\n",
              "      <th>2</th>\n",
              "      <td>69</td>\n",
              "      <td>176</td>\n",
              "      <td>Normal</td>\n",
              "    </tr>\n",
              "    <tr>\n",
              "      <th>3</th>\n",
              "      <td>64</td>\n",
              "      <td>173</td>\n",
              "      <td>Normal</td>\n",
              "    </tr>\n",
              "    <tr>\n",
              "      <th>4</th>\n",
              "      <td>65</td>\n",
              "      <td>172</td>\n",
              "      <td>Normal</td>\n",
              "    </tr>\n",
              "    <tr>\n",
              "      <th>5</th>\n",
              "      <td>56</td>\n",
              "      <td>174</td>\n",
              "      <td>Underweight</td>\n",
              "    </tr>\n",
              "    <tr>\n",
              "      <th>6</th>\n",
              "      <td>58</td>\n",
              "      <td>169</td>\n",
              "      <td>Normal</td>\n",
              "    </tr>\n",
              "    <tr>\n",
              "      <th>7</th>\n",
              "      <td>57</td>\n",
              "      <td>173</td>\n",
              "      <td>Normal</td>\n",
              "    </tr>\n",
              "    <tr>\n",
              "      <th>8</th>\n",
              "      <td>55</td>\n",
              "      <td>170</td>\n",
              "      <td>Normal</td>\n",
              "    </tr>\n",
              "  </tbody>\n",
              "</table>\n",
              "</div>"
            ],
            "text/plain": [
              "   Weight(x2)  Height(y2)        Class\n",
              "0          51         167  Underweight\n",
              "1          62         182       Normal\n",
              "2          69         176       Normal\n",
              "3          64         173       Normal\n",
              "4          65         172       Normal\n",
              "5          56         174  Underweight\n",
              "6          58         169       Normal\n",
              "7          57         173       Normal\n",
              "8          55         170       Normal"
            ]
          },
          "metadata": {
            "tags": []
          },
          "execution_count": 1
        }
      ]
    },
    {
      "cell_type": "markdown",
      "metadata": {
        "id": "LrXMALZ6ctSJ",
        "colab_type": "text"
      },
      "source": [
        "##2. Take 4 variables underweight_x,underweight_y,normal_x,normal_y and put the values respectively in these variables using iloc operator"
      ]
    },
    {
      "cell_type": "code",
      "metadata": {
        "id": "YJ1PHLs30t5O",
        "colab_type": "code",
        "outputId": "88a26753-97f0-4a5c-fff4-9c1226810ed3",
        "colab": {
          "base_uri": "https://localhost:8080/",
          "height": 35
        }
      },
      "source": [
        "underweight_x = df.iloc[[0,5],0].values\n",
        "underweight_y = df.iloc[[0,5],1].values\n",
        "normal_x = df.iloc[[1,2,3,4,6,7,8],0].values\n",
        "normal_y = df.iloc[[1,2,3,4,6,7,8],1].values\n",
        "print(underweight_x,underweight_y,normal_x,normal_y)"
      ],
      "execution_count": 0,
      "outputs": [
        {
          "output_type": "stream",
          "text": [
            "[51 56] [167 174] [62 69 64 65 58 57 55] [182 176 173 172 169 173 170]\n"
          ],
          "name": "stdout"
        }
      ]
    },
    {
      "cell_type": "markdown",
      "metadata": {
        "id": "4wPpLkDEeEQh",
        "colab_type": "text"
      },
      "source": [
        "## 3. Plot 2 scatter plots taking the above varaibles with different colors for different categories.\n",
        "Also, plot the testing value 57,170 with a new color"
      ]
    },
    {
      "cell_type": "code",
      "metadata": {
        "id": "UROdw2e21YAk",
        "colab_type": "code",
        "outputId": "56fad947-b28a-4231-a629-bd6bb85e49b5",
        "colab": {
          "base_uri": "https://localhost:8080/",
          "height": 265
        }
      },
      "source": [
        "import matplotlib.pyplot as plt\n",
        "plt.scatter(underweight_x,underweight_y,c='r')\n",
        "plt.scatter(normal_x,normal_y,c='g')\n",
        "plt.scatter(57,170,c='b',s = 100)\n",
        "plt.show()"
      ],
      "execution_count": 0,
      "outputs": [
        {
          "output_type": "display_data",
          "data": {
            "image/png": "[encoded data removed]",
            "text/plain": [
              "<Figure size 432x288 with 1 Axes>"
            ]
          },
          "metadata": {
            "tags": [],
            "needs_background": "light"
          }
        }
      ]
    },
    {
      "cell_type": "markdown",
      "metadata": {
        "id": "czcl5ReBjUDh",
        "colab_type": "text"
      },
      "source": [
        "## 4. Write a code for finding the Euclidean distance from the new testing value to other remaining points and print them\n",
        "\n",
        "#### Hint: Try using np.linalg.norm\n",
        "\n",
        "Reference:\n",
        "\n",
        " https://stackoverflow.com/questions/1401712/how-can-the-euclidean-distance-be-calculated-with-numpy\n",
        "\n"
      ]
    },
    {
      "cell_type": "markdown",
      "metadata": {
        "id": "xKjftv-7e73I",
        "colab_type": "text"
      },
      "source": [
        "![image.png](data:image/png;base64,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)"
      ]
    },
    {
      "cell_type": "code",
      "metadata": {
        "id": "EbxAZSwh1rNz",
        "colab_type": "code",
        "outputId": "f25da59f-580e-40da-a42a-5b797ca6047b",
        "colab": {
          "base_uri": "https://localhost:8080/",
          "height": 35
        }
      },
      "source": [
        "import numpy as np\n",
        "a = np.array([57,170])\n",
        "b = np.array([58,169])\n",
        "d = np.linalg.norm(a-b)\n",
        "d"
      ],
      "execution_count": 0,
      "outputs": [
        {
          "output_type": "execute_result",
          "data": {
            "text/plain": [
              "1.4142135623730951"
            ]
          },
          "metadata": {
            "tags": []
          },
          "execution_count": 9
        }
      ]
    },
    {
      "cell_type": "markdown",
      "metadata": {
        "id": "YBJ87ecegM2H",
        "colab_type": "text"
      },
      "source": [
        "# 5. Solve the classification problem for Iris Flower Dataset using KNN. The link for csv is https://www.kaggle.com/arshid/iris-flower-dataset\n",
        "\n",
        "##Sign up for Kaggle and download the dataset.\n",
        "\n",
        "More on Iris Flower Dataset: https://en.wikipedia.org/wiki/Iris_flower_data_set\n"
      ]
    },
    {
      "cell_type": "code",
      "metadata": {
        "id": "ABqpj2_W3Gsc",
        "colab_type": "code",
        "outputId": "75b1445d-0557-4fe0-e72c-deab4f5b1ceb",
        "colab": {
          "base_uri": "https://localhost:8080/",
          "height": 407
        }
      },
      "source": [
        "import pandas as pd\n",
        "df = pd.read_csv('iris.csv')\n",
        "df"
      ],
      "execution_count": 0,
      "outputs": [
        {
          "output_type": "execute_result",
          "data": {
            "text/html": [
              "<div>\n",
              "<style scoped>\n",
              "    .dataframe tbody tr th:only-of-type {\n",
              "        vertical-align: middle;\n",
              "    }\n",
              "\n",
              "    .dataframe tbody tr th {\n",
              "        vertical-align: top;\n",
              "    }\n",
              "\n",
              "    .dataframe thead th {\n",
              "        text-align: right;\n",
              "    }\n",
              "</style>\n",
              "<table border=\"1\" class=\"dataframe\">\n",
              "  <thead>\n",
              "    <tr style=\"text-align: right;\">\n",
              "      <th></th>\n",
              "      <th>sepal_length</th>\n",
              "      <th>sepal_width</th>\n",
              "      <th>petal_length</th>\n",
              "      <th>petal_width</th>\n",
              "      <th>species</th>\n",
              "    </tr>\n",
              "  </thead>\n",
              "  <tbody>\n",
              "    <tr>\n",
              "      <th>0</th>\n",
              "      <td>5.1</td>\n",
              "      <td>3.5</td>\n",
              "      <td>1.4</td>\n",
              "      <td>0.2</td>\n",
              "      <td>Iris-setosa</td>\n",
              "    </tr>\n",
              "    <tr>\n",
              "      <th>1</th>\n",
              "      <td>4.9</td>\n",
              "      <td>3.0</td>\n",
              "      <td>1.4</td>\n",
              "      <td>0.2</td>\n",
              "      <td>Iris-setosa</td>\n",
              "    </tr>\n",
              "    <tr>\n",
              "      <th>2</th>\n",
              "      <td>4.7</td>\n",
              "      <td>3.2</td>\n",
              "      <td>1.3</td>\n",
              "      <td>0.2</td>\n",
              "      <td>Iris-setosa</td>\n",
              "    </tr>\n",
              "    <tr>\n",
              "      <th>3</th>\n",
              "      <td>4.6</td>\n",
              "      <td>3.1</td>\n",
              "      <td>1.5</td>\n",
              "      <td>0.2</td>\n",
              "      <td>Iris-setosa</td>\n",
              "    </tr>\n",
              "    <tr>\n",
              "      <th>4</th>\n",
              "      <td>5.0</td>\n",
              "      <td>3.6</td>\n",
              "      <td>1.4</td>\n",
              "      <td>0.2</td>\n",
              "      <td>Iris-setosa</td>\n",
              "    </tr>\n",
              "    <tr>\n",
              "      <th>...</th>\n",
              "      <td>...</td>\n",
              "      <td>...</td>\n",
              "      <td>...</td>\n",
              "      <td>...</td>\n",
              "      <td>...</td>\n",
              "    </tr>\n",
              "    <tr>\n",
              "      <th>145</th>\n",
              "      <td>6.7</td>\n",
              "      <td>3.0</td>\n",
              "      <td>5.2</td>\n",
              "      <td>2.3</td>\n",
              "      <td>Iris-virginica</td>\n",
              "    </tr>\n",
              "    <tr>\n",
              "      <th>146</th>\n",
              "      <td>6.3</td>\n",
              "      <td>2.5</td>\n",
              "      <td>5.0</td>\n",
              "      <td>1.9</td>\n",
              "      <td>Iris-virginica</td>\n",
              "    </tr>\n",
              "    <tr>\n",
              "      <th>147</th>\n",
              "      <td>6.5</td>\n",
              "      <td>3.0</td>\n",
              "      <td>5.2</td>\n",
              "      <td>2.0</td>\n",
              "      <td>Iris-virginica</td>\n",
              "    </tr>\n",
              "    <tr>\n",
              "      <th>148</th>\n",
              "      <td>6.2</td>\n",
              "      <td>3.4</td>\n",
              "      <td>5.4</td>\n",
              "      <td>2.3</td>\n",
              "      <td>Iris-virginica</td>\n",
              "    </tr>\n",
              "    <tr>\n",
              "      <th>149</th>\n",
              "      <td>5.9</td>\n",
              "      <td>3.0</td>\n",
              "      <td>5.1</td>\n",
              "      <td>1.8</td>\n",
              "      <td>Iris-virginica</td>\n",
              "    </tr>\n",
              "  </tbody>\n",
              "</table>\n",
              "<p>150 rows × 5 columns</p>\n",
              "</div>"
            ],
            "text/plain": [
              "     sepal_length  sepal_width  petal_length  petal_width         species\n",
              "0             5.1          3.5           1.4          0.2     Iris-setosa\n",
              "1             4.9          3.0           1.4          0.2     Iris-setosa\n",
              "2             4.7          3.2           1.3          0.2     Iris-setosa\n",
              "3             4.6          3.1           1.5          0.2     Iris-setosa\n",
              "4             5.0          3.6           1.4          0.2     Iris-setosa\n",
              "..            ...          ...           ...          ...             ...\n",
              "145           6.7          3.0           5.2          2.3  Iris-virginica\n",
              "146           6.3          2.5           5.0          1.9  Iris-virginica\n",
              "147           6.5          3.0           5.2          2.0  Iris-virginica\n",
              "148           6.2          3.4           5.4          2.3  Iris-virginica\n",
              "149           5.9          3.0           5.1          1.8  Iris-virginica\n",
              "\n",
              "[150 rows x 5 columns]"
            ]
          },
          "metadata": {
            "tags": []
          },
          "execution_count": 6
        }
      ]
    },
    {
      "cell_type": "code",
      "metadata": {
        "id": "d2oB-J-CWRLK",
        "colab_type": "code",
        "colab": {}
      },
      "source": [
        "x = df.iloc[:,[0,1,2,3]].values\n",
        "y = df.iloc[:,4].values"
      ],
      "execution_count": 0,
      "outputs": []
    },
    {
      "cell_type": "code",
      "metadata": {
        "id": "hPkPN-mBYW-h",
        "colab_type": "code",
        "outputId": "ea18172f-baad-4578-fd2f-41ea8f46a54c",
        "colab": {
          "base_uri": "https://localhost:8080/",
          "height": 35
        }
      },
      "source": [
        "from sklearn.neighbors import KNeighborsClassifier\n",
        "model = KNeighborsClassifier()\n",
        "model.fit(x,y)\n",
        "y_pred = model.predict([[6.2,3.4,5.4,2.3]])\n",
        "y_pred"
      ],
      "execution_count": 0,
      "outputs": [
        {
          "output_type": "execute_result",
          "data": {
            "text/plain": [
              "array(['Iris-virginica'], dtype=object)"
            ]
          },
          "metadata": {
            "tags": []
          },
          "execution_count": 8
        }
      ]
    },
    {
      "cell_type": "code",
      "metadata": {
        "id": "VZd64DCTY39O",
        "colab_type": "code",
        "colab": {}
      },
      "source": [
        ""
      ],
      "execution_count": 0,
      "outputs": []
    }
  ]
}
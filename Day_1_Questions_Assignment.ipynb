{
  "nbformat": 4,
  "nbformat_minor": 0,
  "metadata": {
    "kernelspec": {
      "display_name": "Python 3",
      "language": "python",
      "name": "python3"
    },
    "language_info": {
      "codemirror_mode": {
        "name": "ipython",
        "version": 3
      },
      "file_extension": ".py",
      "mimetype": "text/x-python",
      "name": "python",
      "nbconvert_exporter": "python",
      "pygments_lexer": "ipython3",
      "version": "3.7.1"
    },
    "colab": {
      "name": "Day_1_Questions_Assignment.ipynb",
      "provenance": [],
      "collapsed_sections": []
    }
  },
  "cells": [
    {
      "cell_type": "markdown",
      "metadata": {
        "id": "4ABllLdCvR3v",
        "colab_type": "text"
      },
      "source": [
        "![image.png](data:image/png;base64,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)\n"
      ]
    },
    {
      "cell_type": "markdown",
      "metadata": {
        "id": "qE1O-onnvqd0",
        "colab_type": "text"
      },
      "source": [
        "# Assignment - Day 1:\n",
        "1. Create Github Account and Linkedin if you dont have one and follow us\n",
        "\n",
        "My LinkedIn Profile: https://www.linkedin.com/in/mohammed-ameer-05245a60/\n",
        "\n",
        "Diazonic Labs Company : https://www.linkedin.com/company/diazonic-labs/\n",
        "\n",
        "Oyesters Company : https://www.linkedin.com/company/oyesterstrainings/\n",
        "\n",
        "NOTE : If you dont have Github account, follow this https://www.youtube.com/watch?v=1HIK4eAJ34U&t=1s \n",
        "\n",
        "2. Technical Assignment of 5 simple questions is posted as follows. \n",
        "\n",
        "3. Write a small post on your LinkedIn of today's class and tag us with \n",
        "\n",
        " #diazoniclabswebinar\n",
        "\n",
        " @OyestersTraining\n",
        "\n",
        " @Diazonic Labs\n",
        "\n",
        "Sample Post: https://www.linkedin.com/posts/rohithkalvakota_str-f-workshop-activity-6666963613699465216-1tqj\n",
        "\n",
        "\n"
      ]
    },
    {
      "cell_type": "markdown",
      "metadata": {
        "id": "BXJLAEYwvWmM",
        "colab_type": "text"
      },
      "source": [
        "**Welcome to your Assessment 1! Complete the tasks described below by typing the relevant code in the cells. The output is given for your reference after some of the questions**"
      ]
    },
    {
      "cell_type": "markdown",
      "metadata": {
        "id": "fJn-mrP6R4Wm",
        "colab_type": "text"
      },
      "source": [
        "# 1. Take a variable named num1 and assign String value '25' value to it and print out the variable and type of variable. Type cast it to Integer datatype and store it back in num1 and then again print the datatype"
      ]
    },
    {
      "cell_type": "code",
      "metadata": {
        "id": "TiW7v1JYR4Wp",
        "colab_type": "code",
        "outputId": "58b67f92-36e1-430d-8bda-9935dbab482c",
        "colab": {
          "base_uri": "https://localhost:8080/",
          "height": 84
        }
      },
      "source": [
        "num1 = \"25\"\n",
        "print(num1)\n",
        "print(type(num1))\n",
        "num1 = int(num1)\n",
        "print(num1)\n",
        "print(type(num1))"
      ],
      "execution_count": 0,
      "outputs": [
        {
          "output_type": "stream",
          "text": [
            "25\n",
            "<class 'str'>\n",
            "25\n",
            "<class 'int'>\n"
          ],
          "name": "stdout"
        }
      ]
    },
    {
      "cell_type": "markdown",
      "metadata": {
        "id": "kTeQLgemR4Wu",
        "colab_type": "text"
      },
      "source": [
        "# 2. Using input function take another variable named num2 and assign value 26.2 to it using input method.  Add num1 and num2 and store it in add and print the statement saying the value of number1 and number2 is 51.2 using format specifier\n"
      ]
    },
    {
      "cell_type": "code",
      "metadata": {
        "id": "DMEkIbkIR4Wv",
        "colab_type": "code",
        "outputId": "a0c0c6a8-7fc8-4f31-9c76-bde4bfc1f8e4",
        "colab": {
          "base_uri": "https://localhost:8080/",
          "height": 50
        }
      },
      "source": [
        "num2 = float(input())\n",
        "add = num1 + num2\n",
        "print(\"The value of number1 and number2 %s\" %(add))"
      ],
      "execution_count": 0,
      "outputs": [
        {
          "output_type": "stream",
          "text": [
            "26.2\n",
            "The value of number1 and number2 51.2\n"
          ],
          "name": "stdout"
        }
      ]
    },
    {
      "cell_type": "markdown",
      "metadata": {
        "id": "M4IeqffkR4W1",
        "colab_type": "text"
      },
      "source": [
        "# 3. Write a function named season and accept one parameter named weather.\n",
        "Weather variable should accept an input.\n",
        "Using conditional statements write a code to check if the weather is cold, then it should print Winter.\n",
        "If the weather is sunny, then it should print Summer\n",
        "Else print wrong input"
      ]
    },
    {
      "cell_type": "code",
      "metadata": {
        "id": "BnGuAWa-R4W2",
        "colab_type": "code",
        "outputId": "79cae1b9-d773-4b67-a1fa-3238c9652b00",
        "colab": {
          "base_uri": "https://localhost:8080/",
          "height": 67
        }
      },
      "source": [
        "def season(weather):\n",
        "  if(weather == \"cold\"):\n",
        "    print(\"Winter\")\n",
        "  elif(weather == \"sunny\"):\n",
        "    print(\"Summer\")\n",
        "  else:\n",
        "    print(\"Wrong input!\")\n",
        "\n",
        "season(\"cold\")  \n",
        "\n",
        "season(\"sunny\")\n",
        "\n",
        "season(\"rainy\")"
      ],
      "execution_count": 0,
      "outputs": [
        {
          "output_type": "stream",
          "text": [
            "Winter\n",
            "Summer\n",
            "Wrong input!\n"
          ],
          "name": "stdout"
        }
      ]
    },
    {
      "cell_type": "markdown",
      "metadata": {
        "id": "Lw9YEl53R4W6",
        "colab_type": "text"
      },
      "source": [
        "# 4. Write the output for the following"
      ]
    },
    {
      "cell_type": "markdown",
      "metadata": {
        "id": "w1MQuGI2R4W7",
        "colab_type": "text"
      },
      "source": [
        "list1 = [1,2,3,4]\n",
        "\n",
        "list2 = list1\n",
        "\n",
        "list1[1] = 0\n",
        "\n",
        "list1[3] = 0\n",
        "\n",
        "print(list2)"
      ]
    },
    {
      "cell_type": "code",
      "metadata": {
        "id": "3q8c0GIRaE_r",
        "colab_type": "code",
        "outputId": "0e1e17c5-9c6d-47c9-dfa2-67af16a0f88d",
        "colab": {
          "base_uri": "https://localhost:8080/",
          "height": 34
        }
      },
      "source": [
        "[1, 0, 3, 0]"
      ],
      "execution_count": 0,
      "outputs": [
        {
          "output_type": "execute_result",
          "data": {
            "text/plain": [
              "[1, 0, 3, 0]"
            ]
          },
          "metadata": {
            "tags": []
          },
          "execution_count": 15
        }
      ]
    },
    {
      "cell_type": "markdown",
      "metadata": {
        "id": "b3eAw5HUR4XC",
        "colab_type": "text"
      },
      "source": [
        "# 5. Write a code for Countdown timer using loops and time library for 10 seconds"
      ]
    },
    {
      "cell_type": "code",
      "metadata": {
        "id": "7uJlJpWxR4XD",
        "colab_type": "code",
        "colab": {
          "base_uri": "https://localhost:8080/",
          "height": 202
        },
        "outputId": "266af6d4-6330-4abc-9bd4-0b5c6b239701"
      },
      "source": [
        "import time;\n",
        "t = 10\n",
        "for i in range(t):\n",
        "  print(str(t - i))\n",
        "  time.sleep(1)\n",
        "print(\"Time up!\")"
      ],
      "execution_count": 3,
      "outputs": [
        {
          "output_type": "stream",
          "text": [
            "10\n",
            "9\n",
            "8\n",
            "7\n",
            "6\n",
            "5\n",
            "4\n",
            "3\n",
            "2\n",
            "1\n",
            "Time up!\n"
          ],
          "name": "stdout"
        }
      ]
    },
    {
      "cell_type": "markdown",
      "metadata": {
        "id": "2Kw2TgXbvRDV",
        "colab_type": "text"
      },
      "source": [
        "# ALL THE BEST FOLKS"
      ]
    }
  ]
}

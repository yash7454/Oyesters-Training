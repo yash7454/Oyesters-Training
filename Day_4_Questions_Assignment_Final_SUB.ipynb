{
  "nbformat": 4,
  "nbformat_minor": 0,
  "metadata": {
    "colab": {
      "name": "Day_4_Questions-Assignment.ipynb",
      "provenance": [],
      "collapsed_sections": [],
      "include_colab_link": true
    },
    "kernelspec": {
      "name": "python3",
      "display_name": "Python 3"
    }
  },
  "cells": [
    {
      "cell_type": "markdown",
      "metadata": {
        "id": "view-in-github",
        "colab_type": "text"
      },
      "source": [
        "<a href=\"https://colab.research.google.com/github/yash7454/Oyesters-Training/blob/master/Day_4_Questions_Assignment_Final_SUB.ipynb\" target=\"_parent\"><img src=\"https://colab.research.google.com/assets/colab-badge.svg\" alt=\"Open In Colab\"/></a>"
      ]
    },
    {
      "cell_type": "markdown",
      "metadata": {
        "id": "4ABllLdCvR3v",
        "colab_type": "text"
      },
      "source": [
        "![image.png](data:image/png;base64,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)\n"
      ]
    },
    {
      "cell_type": "markdown",
      "metadata": {
        "id": "byqx7SZDR6i1",
        "colab_type": "text"
      },
      "source": [
        "www.youtube.com/diazoniclabs"
      ]
    },
    {
      "cell_type": "markdown",
      "metadata": {
        "id": "qE1O-onnvqd0",
        "colab_type": "text"
      },
      "source": [
        "# Assignment - Day 4:\n",
        "Hope that by now, everyone would have had Github account and LinkedIn account.\n",
        "1. Technical Assignment of 5 simple questions is posted as follows. \n",
        "\n",
        "2. Write a small technical summary on your LinkedIn wall of today's class and tag us with \n",
        "\n",
        " #diazoniclabswebinar\n",
        "\n",
        " @OyestersTraining\n",
        "\n",
        " @Diazonic Labs\n",
        "\n",
        "Sample Post: https://www.linkedin.com/posts/rohithkalvakota_str-f-workshop-activity-6666963613699465216-1tqj\n",
        "\n",
        "\n"
      ]
    },
    {
      "cell_type": "markdown",
      "metadata": {
        "id": "bans1IqFTblr",
        "colab_type": "text"
      },
      "source": [
        "**Welcome to your Assessment 4! Complete the tasks described below by typing the relevant code in the cells. The output is given for your reference after the questions. You will get different answers because of dealing with random values**"
      ]
    },
    {
      "cell_type": "markdown",
      "metadata": {
        "id": "LyxunI2PeOip",
        "colab_type": "text"
      },
      "source": [
        "# Write a Program in Python from scratch without using Sklearn Library for implementing Linear Regression using the same data delivered in Webinar [ Least Square Method]\n",
        "\n"
      ]
    },
    {
      "cell_type": "markdown",
      "metadata": {
        "id": "sqCxcLlVFqpq",
        "colab_type": "text"
      },
      "source": [
        "## 1. Take a variable named x and y and assign the values 1,2,3,4,5,6 to x and 10,12,14,16,18,20 to y using numpy arrays. Draw a scatter plot beween x and y \n"
      ]
    },
    {
      "cell_type": "code",
      "metadata": {
        "id": "8QqQm70jFw6n",
        "colab_type": "code",
        "colab": {
          "base_uri": "https://localhost:8080/",
          "height": 118
        },
        "outputId": "c2adebb1-071b-4d81-b055-21126329174f"
      },
      "source": [
        "import matplotlib.pyplot as plt\n",
        "import numpy as np\n",
        "x = np.arange(1,7,1).reshape(-1,1)\n",
        "y = np.arange(10,21,2)\n",
        "x,y"
      ],
      "execution_count": 16,
      "outputs": [
        {
          "output_type": "execute_result",
          "data": {
            "text/plain": [
              "(array([[1],\n",
              "        [2],\n",
              "        [3],\n",
              "        [4],\n",
              "        [5],\n",
              "        [6]]), array([10, 12, 14, 16, 18, 20]))"
            ]
          },
          "metadata": {
            "tags": []
          },
          "execution_count": 16
        }
      ]
    },
    {
      "cell_type": "code",
      "metadata": {
        "id": "sbEEMUY10upi",
        "colab_type": "code",
        "outputId": "65e85d8a-e5f3-45a3-da1f-512781076377",
        "colab": {
          "base_uri": "https://localhost:8080/",
          "height": 265
        }
      },
      "source": [
        "plt.scatter(x,y)\n",
        "plt.plot(x,y)\n",
        "plt.show()"
      ],
      "execution_count": 17,
      "outputs": [
        {
          "output_type": "display_data",
          "data": {
            "image/png": "[encoded data removed]",
            "text/plain": [
              "<Figure size 432x288 with 1 Axes>"
            ]
          },
          "metadata": {
            "tags": [],
            "needs_background": "light"
          }
        }
      ]
    },
    {
      "cell_type": "markdown",
      "metadata": {
        "id": "LrXMALZ6ctSJ",
        "colab_type": "text"
      },
      "source": [
        "##2. Calculate the mean values of x and y & store it in mean_x and mean_y  respectively"
      ]
    },
    {
      "cell_type": "code",
      "metadata": {
        "id": "YJ1PHLs30t5O",
        "colab_type": "code",
        "outputId": "0ba44e83-d23e-40db-97f7-261524882655",
        "colab": {
          "base_uri": "https://localhost:8080/",
          "height": 34
        }
      },
      "source": [
        "mean_x = np.mean(x)\n",
        "mean_y = np.mean(y)\n",
        "mean_x,mean_y"
      ],
      "execution_count": 18,
      "outputs": [
        {
          "output_type": "execute_result",
          "data": {
            "text/plain": [
              "(3.5, 15.0)"
            ]
          },
          "metadata": {
            "tags": []
          },
          "execution_count": 18
        }
      ]
    },
    {
      "cell_type": "markdown",
      "metadata": {
        "id": "4wPpLkDEeEQh",
        "colab_type": "text"
      },
      "source": [
        "## 3. Print the values of Column 3 and 4 which is the difference amount of x with x_mean & y with y_mean\n",
        "Hint: Use for loop for printing all values of 3rd and 4th Column"
      ]
    },
    {
      "cell_type": "code",
      "metadata": {
        "id": "CK3wHTqceF9Q",
        "colab_type": "code",
        "outputId": "c7522758-246d-4e86-d915-2c4441465dec",
        "colab": {
          "base_uri": "https://localhost:8080/",
          "height": 54
        }
      },
      "source": [
        "xi = []\n",
        "for i in x:\n",
        "  xi.append(i-mean_x)\n",
        "print(xi)"
      ],
      "execution_count": 19,
      "outputs": [
        {
          "output_type": "stream",
          "text": [
            "[array([-2.5]), array([-1.5]), array([-0.5]), array([0.5]), array([1.5]), array([2.5])]\n"
          ],
          "name": "stdout"
        }
      ]
    },
    {
      "cell_type": "code",
      "metadata": {
        "id": "UROdw2e21YAk",
        "colab_type": "code",
        "outputId": "3413d381-7928-4085-aeae-7a16904d8dcd",
        "colab": {
          "base_uri": "https://localhost:8080/",
          "height": 34
        }
      },
      "source": [
        "yi = []\n",
        "for i in y:\n",
        "  yi.append(i-mean_y)\n",
        "print(yi)"
      ],
      "execution_count": 20,
      "outputs": [
        {
          "output_type": "stream",
          "text": [
            "[-5.0, -3.0, -1.0, 1.0, 3.0, 5.0]\n"
          ],
          "name": "stdout"
        }
      ]
    },
    {
      "cell_type": "markdown",
      "metadata": {
        "id": "czcl5ReBjUDh",
        "colab_type": "text"
      },
      "source": [
        "## 4. Finding values of 5th and 6th Column\n",
        "\n",
        "###1. Store the value of numerator in numer variable and denominator value in denom variable\n",
        "### 2. Also print the value of slope(m) and Y-intercept(c)\n",
        "\n",
        "##Hint: Use the following equation"
      ]
    },
    {
      "cell_type": "markdown",
      "metadata": {
        "id": "xKjftv-7e73I",
        "colab_type": "text"
      },
      "source": [
        " ![image.png](data:image/png;base64,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)"
      ]
    },
    {
      "cell_type": "code",
      "metadata": {
        "id": "EbxAZSwh1rNz",
        "colab_type": "code",
        "outputId": "78454de5-0a72-4de1-8805-179a964e72a9",
        "colab": {
          "base_uri": "https://localhost:8080/",
          "height": 34
        }
      },
      "source": [
        "numer = np.sum(np.multiply(xi, yi))\n",
        "denom = np.sum(np.multiply(xi, xi))\n",
        "numer, denom"
      ],
      "execution_count": 21,
      "outputs": [
        {
          "output_type": "execute_result",
          "data": {
            "text/plain": [
              "(0.0, 17.5)"
            ]
          },
          "metadata": {
            "tags": []
          },
          "execution_count": 21
        }
      ]
    },
    {
      "cell_type": "code",
      "metadata": {
        "id": "IIhqT46b2bLP",
        "colab_type": "code",
        "outputId": "89698d10-ae03-40da-fde1-f63766942305",
        "colab": {
          "base_uri": "https://localhost:8080/",
          "height": 34
        }
      },
      "source": [
        "m = numer/denom\n",
        "m"
      ],
      "execution_count": 22,
      "outputs": [
        {
          "output_type": "execute_result",
          "data": {
            "text/plain": [
              "0.0"
            ]
          },
          "metadata": {
            "tags": []
          },
          "execution_count": 22
        }
      ]
    },
    {
      "cell_type": "code",
      "metadata": {
        "id": "LD0OY7st2hWl",
        "colab_type": "code",
        "outputId": "7e71c58e-6cbc-4b0c-8278-5824ad2516df",
        "colab": {
          "base_uri": "https://localhost:8080/",
          "height": 34
        }
      },
      "source": [
        "c = 0\n",
        "c"
      ],
      "execution_count": 23,
      "outputs": [
        {
          "output_type": "execute_result",
          "data": {
            "text/plain": [
              "0"
            ]
          },
          "metadata": {
            "tags": []
          },
          "execution_count": 23
        }
      ]
    },
    {
      "cell_type": "markdown",
      "metadata": {
        "id": "YBJ87ecegM2H",
        "colab_type": "text"
      },
      "source": [
        "# 5. Predict the value for 3.5 and 4.5 and check whether the output is same with Sklearn Library"
      ]
    },
    {
      "cell_type": "code",
      "metadata": {
        "id": "XpyUnbagiJi0",
        "colab_type": "code",
        "colab": {}
      },
      "source": [
        "from sklearn.linear_model import LinearRegression"
      ],
      "execution_count": 0,
      "outputs": []
    },
    {
      "cell_type": "code",
      "metadata": {
        "id": "4dtbaQoagVDi",
        "colab_type": "code",
        "outputId": "f5d9525f-a1cd-48bd-9e6c-cf7e8bdf903f",
        "colab": {
          "base_uri": "https://localhost:8080/",
          "height": 34
        }
      },
      "source": [
        "model = LinearRegression() # Initiating the process of creating a model\n",
        "model.fit(x,y) # Model will be created\n",
        "y_pred = model.predict([[3.5],[4.5]])\n",
        "y_pred"
      ],
      "execution_count": 28,
      "outputs": [
        {
          "output_type": "execute_result",
          "data": {
            "text/plain": [
              "array([15., 17.])"
            ]
          },
          "metadata": {
            "tags": []
          },
          "execution_count": 28
        }
      ]
    },
    {
      "cell_type": "code",
      "metadata": {
        "id": "ABqpj2_W3Gsc",
        "colab_type": "code",
        "colab": {}
      },
      "source": [
        ""
      ],
      "execution_count": 0,
      "outputs": []
    }
  ]
}